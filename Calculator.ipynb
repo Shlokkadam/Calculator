{
  "nbformat": 4,
  "nbformat_minor": 0,
  "metadata": {
    "colab": {
      "provenance": [],
      "authorship_tag": "ABX9TyMjEBcsEpN1pFjCTUIhU/Z0",
      "include_colab_link": true
    },
    "kernelspec": {
      "name": "python3",
      "display_name": "Python 3"
    },
    "language_info": {
      "name": "python"
    }
  },
  "cells": [
    {
      "cell_type": "markdown",
      "metadata": {
        "id": "view-in-github",
        "colab_type": "text"
      },
      "source": [
        "<a href=\"https://colab.research.google.com/github/Shlokkadam/Calculator/blob/main/Calculator.ipynb\" target=\"_parent\"><img src=\"https://colab.research.google.com/assets/colab-badge.svg\" alt=\"Open In Colab\"/></a>"
      ]
    },
    {
      "cell_type": "code",
      "execution_count": null,
      "metadata": {
        "id": "Skx9B2aDVjh4"
      },
      "outputs": [],
      "source": [
        "def add(num1, num2):\n",
        "  \"\"\"Adds two numbers together.\n",
        "\n",
        "  Args:\n",
        "    num1: The first number.\n",
        "    num2: The second number.\n",
        "\n",
        "  Returns:\n",
        "    The sum of the two numbers.\n",
        "  \"\"\"\n",
        "  return num1 + num2\n",
        "\n",
        "def subtract(num1, num2):\n",
        "  \"\"\"Subtracts one number from another.\n",
        "\n",
        "  Args:\n",
        "    num1: The first number.\n",
        "    num2: The second number.\n",
        "\n",
        "  Returns:\n",
        "    The difference of the two numbers.\n",
        "  \"\"\"\n",
        "  return num1 - num2\n",
        "\n",
        "def multiply(num1, num2):\n",
        "  \"\"\"Multiplies two numbers together.\n",
        "\n",
        "  Args:\n",
        "    num1: The first number.\n",
        "    num2: The second number.\n",
        "\n",
        "  Returns:\n",
        "    The product of the two numbers.\n",
        "  \"\"\"\n",
        "  return num1 * num2\n",
        "\n",
        "def divide(num1, num2):\n",
        "  \"\"\"Divides one number by another.\n",
        "\n",
        "  Args:\n",
        "    num1: The first number.\n",
        "    num2: The second number.\n",
        "\n",
        "  Returns:\n",
        "    The quotient of the two numbers.\n",
        "  \"\"\"\n",
        "  return num1 / num2\n",
        "\n",
        "def main():\n",
        "  \"\"\"Prompts the user to enter two numbers and an operator, then performs the\n",
        "  operation and prints the result.\"\"\"\n",
        "\n",
        "  # Get the two numbers from the user.\n",
        "  num1 = float(input(\"Enter the first number: \"))\n",
        "  num2 = float(input(\"Enter the second number: \"))\n",
        "\n",
        "  # Get the operator from the user.\n",
        "  operator = input(\"Enter an operator (+, -, *, or /): \")\n",
        "\n",
        "  # Perform the operation based on the operator.\n",
        "  if operator == \"+\":\n",
        "    result = add(num1, num2)\n",
        "  elif operator == \"-\":\n",
        "    result = subtract(num1, num2)\n",
        "  elif operator == \"*\":\n",
        "    result = multiply(num1, num2)\n",
        "  elif operator == \"/\":\n",
        "    result = divide(num1, num2)\n",
        "  else:\n",
        "    print(\"Invalid operator.\")\n",
        "    return\n",
        "\n",
        "  # Print the result.\n",
        "  print(\"The result is:\", result)\n",
        "\n",
        "if __name__ == \"__main__\":\n",
        "  main()"
      ]
    }
  ]
}