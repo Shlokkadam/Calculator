{
  "nbformat": 4,
  "nbformat_minor": 0,
  "metadata": {
    "colab": {
      "provenance": [],
      "authorship_tag": "ABX9TyP6AnAGJkzeLo/FraEyPrkg",
      "include_colab_link": true
    },
    "kernelspec": {
      "name": "python3",
      "display_name": "Python 3"
    },
    "language_info": {
      "name": "python"
    }
  },
  "cells": [
    {
      "cell_type": "markdown",
      "metadata": {
        "id": "view-in-github",
        "colab_type": "text"
      },
      "source": [
        "<a href=\"https://colab.research.google.com/github/Shlokkadam/Calculator/blob/main/Contact_list.ipynb\" target=\"_parent\"><img src=\"https://colab.research.google.com/assets/colab-badge.svg\" alt=\"Open In Colab\"/></a>"
      ]
    },
    {
      "cell_type": "code",
      "execution_count": null,
      "metadata": {
        "id": "SC-JN8-CWQeF"
      },
      "outputs": [],
      "source": [
        "class Contact:\n",
        "    def __init__(self, name, phone_number, email):\n",
        "        self.name = name\n",
        "        self.phone_number = phone_number\n",
        "        self.email = email\n",
        "\n",
        "class ContactBook:\n",
        "    def __init__(self):\n",
        "        self.contacts = []\n",
        "\n",
        "    def add_contact(self, contact):\n",
        "        self.contacts.append(contact)\n",
        "\n",
        "    def remove_contact(self, contact):\n",
        "        self.contacts.remove(contact)\n",
        "\n",
        "    def find_contact(self, name):\n",
        "        for contact in self.contacts:\n",
        "            if contact.name == name:\n",
        "                return contact\n",
        "        return None\n",
        "\n",
        "    def print_contacts(self):\n",
        "        for contact in self.contacts:\n",
        "            print(f\"{contact.name}: {contact.phone_number} {contact.email}\")\n",
        "\n",
        "if __name__ == \"__main__\":\n",
        "    contact_book = ContactBook()\n",
        "\n",
        "    # Add some contacts to the contact book\n",
        "    contact_book.add_contact(Contact(\"Shlok\", \"7620-546-843\", \"shlokkadam@2002.com\"))\n",
        "    contact_book.add_contact(Contact(\"Aman\", \"958-844-3242\", \"amantiple@97.com\"))\n",
        "    contact_book.add_contact(Contact(\"Raj\", \"928-444-5476\", \"kadamshlok@05.com\"))\n",
        "\n",
        "    # Print the contacts in the contact book\n",
        "    contact_book.print_contacts()\n",
        "\n",
        "    # Find a contact by name\n",
        "    contact = contact_book.find_contact(\"Shlok\")\n",
        "\n",
        "    # Print the contact's information\n",
        "    if contact:\n",
        "        print(f\"Contact information for {contact.name}:\")\n",
        "        print(f\"Phone number: {contact.phone_number}\")\n",
        "        print(f\"Email address: {contact.email}\")\n",
        "    else:\n",
        "        print(\"Contact not found.\")"
      ]
    }
  ]
}