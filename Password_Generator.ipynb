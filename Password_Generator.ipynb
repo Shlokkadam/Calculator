{
  "nbformat": 4,
  "nbformat_minor": 0,
  "metadata": {
    "colab": {
      "provenance": [],
      "authorship_tag": "ABX9TyORyqIkhN8EEovb+mmPBC5y",
      "include_colab_link": true
    },
    "kernelspec": {
      "name": "python3",
      "display_name": "Python 3"
    },
    "language_info": {
      "name": "python"
    }
  },
  "cells": [
    {
      "cell_type": "markdown",
      "metadata": {
        "id": "view-in-github",
        "colab_type": "text"
      },
      "source": [
        "<a href=\"https://colab.research.google.com/github/Shlokkadam/Calculator/blob/main/Password_Generator.ipynb\" target=\"_parent\"><img src=\"https://colab.research.google.com/assets/colab-badge.svg\" alt=\"Open In Colab\"/></a>"
      ]
    },
    {
      "cell_type": "code",
      "execution_count": 1,
      "metadata": {
        "colab": {
          "base_uri": "https://localhost:8080/"
        },
        "id": "-fBuUme5Tojn",
        "outputId": "22330316-5d73-4c97-c42d-7cb532f020ad"
      },
      "outputs": [
        {
          "output_type": "stream",
          "name": "stdout",
          "text": [
            "Your random password is: lSok5aalaaah\n"
          ]
        }
      ],
      "source": [
        "import random\n",
        "\n",
        "def generate_password(length=12, include_uppercase=True, include_lowercase=True, include_numbers=True, include_symbols=True):\n",
        "  \"\"\"Generates a random password of the specified length, including the specified\n",
        "  character types.\n",
        "\n",
        "  Args:\n",
        "    length: The length of the password.\n",
        "    include_uppercase: Whether to include uppercase letters in the password.\n",
        "    include_lowercase: Whether to include lowercase letters in the password.\n",
        "    include_numbers: Whether to include numbers in the password.\n",
        "    include_symbols: Whether to include symbols in the password.\n",
        "\n",
        "  Returns:\n",
        "    A random password of the specified length and character types.\n",
        "  \"\"\"\n",
        "\n",
        "  characters = \"\"\n",
        "  if include_uppercase:\n",
        "    characters += \"Shlok\"\n",
        "  if include_lowercase:\n",
        "    characters += \"Kadam\"\n",
        "  if include_numbers:\n",
        "    characters += \"05\"\n",
        "  if include_symbols:\n",
        "    characters += \"@\"\n",
        "\n",
        "  password = \"\"\n",
        "  for i in range(length):\n",
        "    password += random.choice(characters)\n",
        "\n",
        "  return password\n",
        "\n",
        "def main():\n",
        "  \"\"\"Generates a random password and prints it to the console.\"\"\"\n",
        "\n",
        "  password = generate_password()\n",
        "  print(\"Your random password is:\", password)\n",
        "\n",
        "if __name__ == \"__main__\":\n",
        "  main()"
      ]
    }
  ]
}